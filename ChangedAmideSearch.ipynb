{
 "cells": [
  {
   "cell_type": "markdown",
   "metadata": {},
   "source": [
    "## AmideSearch"
   ]
  },
  {
   "cell_type": "code",
   "execution_count": 1,
   "metadata": {},
   "outputs": [
    {
     "name": "stdout",
     "output_type": "stream",
     "text": [
      "Collecting XlsxWriter\n",
      "  Using cached XlsxWriter-3.2.0-py3-none-any.whl.metadata (2.6 kB)\n",
      "Using cached XlsxWriter-3.2.0-py3-none-any.whl (159 kB)\n",
      "Installing collected packages: XlsxWriter\n",
      "Successfully installed XlsxWriter-3.2.0\n",
      "Note: you may need to restart the kernel to use updated packages.\n"
     ]
    }
   ],
   "source": [
    "pip install XlsxWriter # Added by EKG\n"
   ]
  },
  {
   "cell_type": "code",
   "execution_count": 5,
   "metadata": {},
   "outputs": [],
   "source": [
    "import xlsxwriter # This line was added by EKG\n",
    "import pandas as pd\n",
    "import numpy as np\n",
    "import sys"
   ]
  },
  {
   "cell_type": "code",
   "execution_count": 20,
   "metadata": {},
   "outputs": [],
   "source": [
    "# Currently broken, only shifting column labels, not whole columns\n",
    "def shifter(df, col_to_shift, pos_to_move):\n",
    "    arr = df.columns.values\n",
    "    idx = df.columns.get_loc(col_to_shift)\n",
    "    if idx == pos_to_move:\n",
    "        pass\n",
    "    elif idx > pos_to_move:\n",
    "        arr[pos_to_move+1: idx+1] = arr[pos_to_move: idx]\n",
    "    else:\n",
    "        arr[idx: pos_to_move] = arr[idx+1: pos_to_move+1]\n",
    "    arr[pos_to_move] = col_to_shift\n",
    "    df = df.reindex(columns=arr)\n",
    "    return df"
   ]
  },
  {
   "cell_type": "code",
   "execution_count": 21,
   "metadata": {},
   "outputs": [
    {
     "name": "stdin",
     "output_type": "stream",
     "text": [
      "Enter name of the Description Table file:  B891P0X8016-Alignment-Descriptions.csv\n",
      "Enter name of the Hit Table file:  B891P0X8016-Alignment-HitTable.csv\n"
     ]
    }
   ],
   "source": [
    "descriptionFileName = input(\"Enter name of the Description Table file: \")\n",
    "if \"Descriptions\" in descriptionFileName:\n",
    "    descriptionFile = open(descriptionFileName, \"r\")\n",
    "else:\n",
    "    print(\"The file you provided does not seem to be the Descriptions Table (CSV) file.\")\n",
    "    exit()\n",
    "hitFileName = input(\"Enter name of the Hit Table file: \")\n",
    "if \"HitTable\" in hitFileName:\n",
    "    hitFile = open(hitFileName, \"r\")\n",
    "else:\n",
    "    print(\"The file you provided does not seem to be the Hit Table (CSV) file.\")\n",
    "    exit()"
   ]
  },
  {
   "cell_type": "code",
   "execution_count": 22,
   "metadata": {},
   "outputs": [],
   "source": [
    "df_descriptionFile = pd.read_csv(descriptionFile)\n",
    "df_hitFile = pd.read_csv(hitFile,header=None)"
   ]
  },
  {
   "cell_type": "code",
   "execution_count": 23,
   "metadata": {},
   "outputs": [
    {
     "name": "stdout",
     "output_type": "stream",
     "text": [
      "All good so far...\n"
     ]
    }
   ],
   "source": [
    "if len(df_hitFile)==len(df_descriptionFile):\n",
    "    print(\"All good so far...\")\n",
    "else:\n",
    "    print(\"Hmm, it looks like you don't have the same number of hits and descriptions.\")"
   ]
  },
  {
   "cell_type": "code",
   "execution_count": 24,
   "metadata": {},
   "outputs": [],
   "source": [
    "hitFileHeaders = ['Query code','Accession','% Identity','Align length','Mis-matches','Gap opens','Query start','Query end','Hit start','Hit end','E-value','Bit score','% positives']\n",
    "df_labeledHitFile = df_hitFile.set_axis(hitFileHeaders,\n",
    "                                        axis=1,\n",
    "                                        copy=None)"
   ]
  },
  {
   "cell_type": "code",
   "execution_count": 25,
   "metadata": {},
   "outputs": [
    {
     "data": {
      "text/html": [
       "<div>\n",
       "<style scoped>\n",
       "    .dataframe tbody tr th:only-of-type {\n",
       "        vertical-align: middle;\n",
       "    }\n",
       "\n",
       "    .dataframe tbody tr th {\n",
       "        vertical-align: top;\n",
       "    }\n",
       "\n",
       "    .dataframe thead th {\n",
       "        text-align: right;\n",
       "    }\n",
       "</style>\n",
       "<table border=\"1\" class=\"dataframe\">\n",
       "  <thead>\n",
       "    <tr style=\"text-align: right;\">\n",
       "      <th></th>\n",
       "      <th>index</th>\n",
       "      <th>Query code</th>\n",
       "      <th>Accession</th>\n",
       "      <th>% Identity</th>\n",
       "      <th>Align length</th>\n",
       "      <th>Mis-matches</th>\n",
       "      <th>Gap opens</th>\n",
       "      <th>Query start</th>\n",
       "      <th>Query end</th>\n",
       "      <th>Hit start</th>\n",
       "      <th>Hit end</th>\n",
       "      <th>E-value</th>\n",
       "      <th>Bit score</th>\n",
       "      <th>% positives</th>\n",
       "    </tr>\n",
       "  </thead>\n",
       "  <tbody>\n",
       "    <tr>\n",
       "      <th>0</th>\n",
       "      <td>0</td>\n",
       "      <td>Query_3420593</td>\n",
       "      <td>XP_033127068.1</td>\n",
       "      <td>100.0</td>\n",
       "      <td>388</td>\n",
       "      <td>0</td>\n",
       "      <td>0</td>\n",
       "      <td>1</td>\n",
       "      <td>388</td>\n",
       "      <td>1</td>\n",
       "      <td>388</td>\n",
       "      <td>0.0</td>\n",
       "      <td>795</td>\n",
       "      <td>100.0</td>\n",
       "    </tr>\n",
       "  </tbody>\n",
       "</table>\n",
       "</div>"
      ],
      "text/plain": [
       "   index     Query code       Accession  % Identity  Align length  \\\n",
       "0      0  Query_3420593  XP_033127068.1       100.0           388   \n",
       "\n",
       "   Mis-matches  Gap opens  Query start  Query end  Hit start  Hit end  \\\n",
       "0            0          0            1        388          1      388   \n",
       "\n",
       "   E-value  Bit score  % positives  \n",
       "0      0.0        795        100.0  "
      ]
     },
     "execution_count": 25,
     "metadata": {},
     "output_type": "execute_result"
    }
   ],
   "source": [
    "df_noduplicateHitFile = df_labeledHitFile.drop_duplicates(subset='Accession',keep='first')\n",
    "df_noduplicateHitFile.reset_index()"
   ]
  },
  {
   "cell_type": "code",
   "execution_count": 26,
   "metadata": {},
   "outputs": [],
   "source": [
    "hitFileArray = pd.DataFrame.to_numpy(df_noduplicateHitFile)\n",
    "matchedhitArray = []\n",
    "for row in hitFileArray:\n",
    "    if row[4] == 0:\n",
    "        matchedhitArray.append(row)\n",
    "dfMatchedHit = pd.DataFrame(matchedhitArray,columns = hitFileHeaders)\n",
    "dfCleanedHit = dfMatchedHit.drop(hitFileHeaders[0], axis=1)\n",
    "dfCleanedHit = dfCleanedHit.drop(hitFileHeaders[2:8], axis=1)"
   ]
  },
  {
   "cell_type": "code",
   "execution_count": 27,
   "metadata": {},
   "outputs": [],
   "source": [
    "hitLengths = df_descriptionFile[\"Acc. Len\"]\n",
    "hitDescription = df_descriptionFile[\"Description\"]\n",
    "dfHitDescription = dfCleanedHit.join(hitLengths)\n",
    "dfHitDescription = dfHitDescription.join(hitDescription)"
   ]
  },
  {
   "cell_type": "code",
   "execution_count": 28,
   "metadata": {},
   "outputs": [],
   "source": [
    "# Currently broken, only shifting column labels, not whole columns\n",
    "def shifter(df, col_to_shift, pos_to_move):\n",
    "    arr = df.columns.values\n",
    "    idx = df.columns.get_loc(col_to_shift)\n",
    "    if idx == pos_to_move:\n",
    "        pass\n",
    "    elif idx > pos_to_move:\n",
    "        arr[pos_to_move+1: idx+1] = arr[pos_to_move: idx]\n",
    "    else:\n",
    "        arr[idx: pos_to_move] = arr[idx+1: pos_to_move+1]\n",
    "    arr[pos_to_move] = col_to_shift\n",
    "    df = df.reindex(columns=arr)\n",
    "    return df"
   ]
  },
  {
   "cell_type": "code",
   "execution_count": 29,
   "metadata": {},
   "outputs": [
    {
     "name": "stdin",
     "output_type": "stream",
     "text": [
      "Enter name of the sequence file:  seqdump.txt\n"
     ]
    }
   ],
   "source": [
    "sequenceFileName = input(\"Enter name of the sequence file: \")\n",
    "if \"seqdump\" in sequenceFileName:\n",
    "    sequenceFile = open(sequenceFileName, \"r\")\n",
    "else:\n",
    "    print(\"The file you provided does not seem to be the FASTA (completesequence) file.\")\n",
    "    exit()\n",
    "sequences = sequenceFile.read()\n",
    "sequences = sequences.split('\\n')"
   ]
  },
  {
   "cell_type": "code",
   "execution_count": 30,
   "metadata": {},
   "outputs": [
    {
     "name": "stdout",
     "output_type": "stream",
     "text": [
      "Good to go...\n"
     ]
    }
   ],
   "source": [
    "sequenceLine = ''\n",
    "for line in sequences:\n",
    "    if '>' in line:\n",
    "        sequenceLine = sequenceLine+','\n",
    "    else:\n",
    "        sequenceLine = sequenceLine+line\n",
    "\n",
    "sequenceColumn = sequenceLine.split(',')[1:]\n",
    "if len(sequenceColumn) == len(dfHitDescription):\n",
    "    print('Good to go...')\n",
    "elif len(sequenceColumn) > len(dfHitDescription):\n",
    "    print('There are too many sequences.')\n",
    "elif len(sequenceColumn) < len(dfHitDescription):\n",
    "    print('There are not enough sequences.')\n",
    "else:\n",
    "    print('Something went wrong...')"
   ]
  },
  {
   "cell_type": "code",
   "execution_count": 31,
   "metadata": {},
   "outputs": [],
   "source": [
    "dfHitDescription[\"Sequence\"] = sequenceColumn"
   ]
  },
  {
   "cell_type": "code",
   "execution_count": 32,
   "metadata": {},
   "outputs": [
    {
     "data": {
      "text/html": [
       "<div>\n",
       "<style scoped>\n",
       "    .dataframe tbody tr th:only-of-type {\n",
       "        vertical-align: middle;\n",
       "    }\n",
       "\n",
       "    .dataframe tbody tr th {\n",
       "        vertical-align: top;\n",
       "    }\n",
       "\n",
       "    .dataframe thead th {\n",
       "        text-align: right;\n",
       "    }\n",
       "</style>\n",
       "<table border=\"1\" class=\"dataframe\">\n",
       "  <thead>\n",
       "    <tr style=\"text-align: right;\">\n",
       "      <th></th>\n",
       "      <th>Accession</th>\n",
       "      <th>Hit start</th>\n",
       "      <th>Hit end</th>\n",
       "      <th>E-value</th>\n",
       "      <th>Bit score</th>\n",
       "      <th>% positives</th>\n",
       "      <th>Acc. Len</th>\n",
       "      <th>Description</th>\n",
       "      <th>Sequence</th>\n",
       "    </tr>\n",
       "  </thead>\n",
       "  <tbody>\n",
       "    <tr>\n",
       "      <th>0</th>\n",
       "      <td>XP_033127068.1</td>\n",
       "      <td>1</td>\n",
       "      <td>388</td>\n",
       "      <td>0.0</td>\n",
       "      <td>795</td>\n",
       "      <td>100.0</td>\n",
       "      <td>388</td>\n",
       "      <td>enterin neuropeptides-like [Anneissia japonica]</td>\n",
       "      <td>MLRQPPFFLLLTWFLFQQCLLTLCYAGDNIHDAYNRPIGFPSKKAN...</td>\n",
       "    </tr>\n",
       "  </tbody>\n",
       "</table>\n",
       "</div>"
      ],
      "text/plain": [
       "        Accession  Hit start  Hit end  E-value  Bit score  % positives  \\\n",
       "0  XP_033127068.1          1      388      0.0        795        100.0   \n",
       "\n",
       "   Acc. Len                                      Description  \\\n",
       "0       388  enterin neuropeptides-like [Anneissia japonica]   \n",
       "\n",
       "                                            Sequence  \n",
       "0  MLRQPPFFLLLTWFLFQQCLLTLCYAGDNIHDAYNRPIGFPSKKAN...  "
      ]
     },
     "execution_count": 32,
     "metadata": {},
     "output_type": "execute_result"
    }
   ],
   "source": [
    "dfHitDescription"
   ]
  },
  {
   "cell_type": "code",
   "execution_count": 33,
   "metadata": {},
   "outputs": [],
   "source": [
    "outputSheetName = sequenceFileName.split('_')[0]\n",
    "dfOutput = dfHitDescription.set_axis(range(1, len(dfHitDescription)+1))\n",
    "with pd.ExcelWriter('AmideSearch.xlsx',\n",
    "                    engine='xlsxwriter') as writer:  \n",
    "    dfOutput.to_excel(writer, sheet_name=outputSheetName) # Changed forth line from mode='a' to engine='xlsxwriter'\n"
   ]
  },
  {
   "cell_type": "code",
   "execution_count": 34,
   "metadata": {},
   "outputs": [
    {
     "data": {
      "text/html": [
       "<div>\n",
       "<style scoped>\n",
       "    .dataframe tbody tr th:only-of-type {\n",
       "        vertical-align: middle;\n",
       "    }\n",
       "\n",
       "    .dataframe tbody tr th {\n",
       "        vertical-align: top;\n",
       "    }\n",
       "\n",
       "    .dataframe thead th {\n",
       "        text-align: right;\n",
       "    }\n",
       "</style>\n",
       "<table border=\"1\" class=\"dataframe\">\n",
       "  <thead>\n",
       "    <tr style=\"text-align: right;\">\n",
       "      <th></th>\n",
       "      <th>Accession</th>\n",
       "      <th>Hit start</th>\n",
       "      <th>Hit end</th>\n",
       "      <th>E-value</th>\n",
       "      <th>Bit score</th>\n",
       "      <th>% positives</th>\n",
       "      <th>Acc. Len</th>\n",
       "      <th>Description</th>\n",
       "      <th>Sequence</th>\n",
       "    </tr>\n",
       "  </thead>\n",
       "  <tbody>\n",
       "    <tr>\n",
       "      <th>1</th>\n",
       "      <td>XP_033127068.1</td>\n",
       "      <td>1</td>\n",
       "      <td>388</td>\n",
       "      <td>0.0</td>\n",
       "      <td>795</td>\n",
       "      <td>100.0</td>\n",
       "      <td>388</td>\n",
       "      <td>enterin neuropeptides-like [Anneissia japonica]</td>\n",
       "      <td>MLRQPPFFLLLTWFLFQQCLLTLCYAGDNIHDAYNRPIGFPSKKAN...</td>\n",
       "    </tr>\n",
       "  </tbody>\n",
       "</table>\n",
       "</div>"
      ],
      "text/plain": [
       "        Accession  Hit start  Hit end  E-value  Bit score  % positives  \\\n",
       "1  XP_033127068.1          1      388      0.0        795        100.0   \n",
       "\n",
       "   Acc. Len                                      Description  \\\n",
       "1       388  enterin neuropeptides-like [Anneissia japonica]   \n",
       "\n",
       "                                            Sequence  \n",
       "1  MLRQPPFFLLLTWFLFQQCLLTLCYAGDNIHDAYNRPIGFPSKKAN...  "
      ]
     },
     "execution_count": 34,
     "metadata": {},
     "output_type": "execute_result"
    }
   ],
   "source": [
    "dfOutput"
   ]
  },
  {
   "cell_type": "code",
   "execution_count": 35,
   "metadata": {},
   "outputs": [
    {
     "name": "stdout",
     "output_type": "stream",
     "text": [
      "seqdump.txt has been added to AmideSearch.xlsx\n"
     ]
    }
   ],
   "source": [
    "print(outputSheetName,\"has been added to AmideSearch.xlsx\")"
   ]
  },
  {
   "cell_type": "code",
   "execution_count": null,
   "metadata": {},
   "outputs": [],
   "source": [
    "\n"
   ]
  },
  {
   "cell_type": "code",
   "execution_count": null,
   "metadata": {},
   "outputs": [],
   "source": []
  },
  {
   "cell_type": "code",
   "execution_count": null,
   "metadata": {},
   "outputs": [],
   "source": []
  }
 ],
 "metadata": {
  "kernelspec": {
   "display_name": "Python 3 (ipykernel)",
   "language": "python",
   "name": "python3"
  },
  "language_info": {
   "codemirror_mode": {
    "name": "ipython",
    "version": 3
   },
   "file_extension": ".py",
   "mimetype": "text/x-python",
   "name": "python",
   "nbconvert_exporter": "python",
   "pygments_lexer": "ipython3",
   "version": "3.10.13"
  }
 },
 "nbformat": 4,
 "nbformat_minor": 4
}
